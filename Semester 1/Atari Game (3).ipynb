{
 "cells": [
  {
   "cell_type": "markdown",
   "id": "308a0db0-353c-4bfa-9704-e01ef71e048d",
   "metadata": {},
   "source": [
    "# Atari Game (Pac-Man)"
   ]
  },
  {
   "cell_type": "markdown",
   "id": "a52c2224-45de-49aa-961f-0c5d1619417b",
   "metadata": {},
   "source": [
    "### If not working install in terminal"
   ]
  },
  {
   "cell_type": "markdown",
   "id": "c94fd473-214d-45d5-b1d6-e2c7b76835ff",
   "metadata": {},
   "source": [
    "#### Note from Axtan: This simulation can be run in a custom-made terminal environment and needs Matplotlib installed and scipy in the terminal, not just the notebook. The simulation might not run as well on cloud services, and might not work without the custom terminal (I haven't tested it outside this environment yet)"
   ]
  },
  {
   "cell_type": "markdown",
   "id": "b29496d5-5c75-48b5-aa5d-b322ef259aa1",
   "metadata": {},
   "source": [
    "#### Question"
   ]
  },
  {
   "cell_type": "markdown",
   "id": "a57c7a42-d519-4c01-9d0a-2c479213cf65",
   "metadata": {},
   "source": [
    "Each time Pac-Man eats a power pellet, there’s a 60% chance he catches at least one ghost before the effect wears off. If he eats 8 power pellets in a game, what is the probability that he catches ghosts 3 times?"
   ]
  },
  {
   "cell_type": "markdown",
   "id": "9ddfc22c-45ec-4168-8f73-df5844b50f3c",
   "metadata": {},
   "source": [
    "#### Description"
   ]
  },
  {
   "cell_type": "markdown",
   "id": "12115688-376b-4687-b366-5136c6c43a1c",
   "metadata": {},
   "source": [
    "I need to assume that the player has 3 lives per game.\n",
    "\n",
    "I need to find how many dots there are on a Pac-Man map, then simulate that\n",
    "\n",
    "One trial of my simulation will consist of the player picking up all the dots and finding if they catch 5 ghosts or not\n",
    "\n",
    "The success outcome is that the player dies a total of 3 times; failure is any number that isn't 3 times.\n",
    "\n",
    "A possible bias in my data is that in my code, the chance that Pac-Man “catches a ghost” is purely based on a random 60% chance per pellet.\n",
    "However, in the real game, this chance isn’t actually random — it depends on:"
   ]
  },
  {
   "cell_type": "code",
   "execution_count": 2,
   "id": "cbdcaffb-eb29-4e91-9a08-af27f9a890f5",
   "metadata": {},
   "outputs": [
    {
     "name": "stdout",
     "output_type": "stream",
     "text": [
      "Requirement already satisfied: gymnasium in c:\\users\\agilbert3\\appdata\\local\\anaconda3\\lib\\site-packages (1.2.1)\n",
      "Requirement already satisfied: numpy>=1.21.0 in c:\\users\\agilbert3\\appdata\\local\\anaconda3\\lib\\site-packages (from gymnasium) (2.1.3)\n",
      "Requirement already satisfied: cloudpickle>=1.2.0 in c:\\users\\agilbert3\\appdata\\local\\anaconda3\\lib\\site-packages (from gymnasium) (3.0.0)\n",
      "Requirement already satisfied: typing-extensions>=4.3.0 in c:\\users\\agilbert3\\appdata\\local\\anaconda3\\lib\\site-packages (from gymnasium) (4.12.2)\n",
      "Requirement already satisfied: farama-notifications>=0.0.1 in c:\\users\\agilbert3\\appdata\\local\\anaconda3\\lib\\site-packages (from gymnasium) (0.0.4)\n",
      "Requirement already satisfied: gymnasium[atari] in c:\\users\\agilbert3\\appdata\\local\\anaconda3\\lib\\site-packages (1.2.1)\n",
      "Requirement already satisfied: numpy>=1.21.0 in c:\\users\\agilbert3\\appdata\\local\\anaconda3\\lib\\site-packages (from gymnasium[atari]) (2.1.3)\n",
      "Requirement already satisfied: cloudpickle>=1.2.0 in c:\\users\\agilbert3\\appdata\\local\\anaconda3\\lib\\site-packages (from gymnasium[atari]) (3.0.0)\n",
      "Requirement already satisfied: typing-extensions>=4.3.0 in c:\\users\\agilbert3\\appdata\\local\\anaconda3\\lib\\site-packages (from gymnasium[atari]) (4.12.2)\n",
      "Requirement already satisfied: farama-notifications>=0.0.1 in c:\\users\\agilbert3\\appdata\\local\\anaconda3\\lib\\site-packages (from gymnasium[atari]) (0.0.4)\n",
      "Requirement already satisfied: ale_py>=0.9 in c:\\users\\agilbert3\\appdata\\local\\anaconda3\\lib\\site-packages (from gymnasium[atari]) (0.11.2)\n",
      "Requirement already satisfied: ale-py in c:\\users\\agilbert3\\appdata\\local\\anaconda3\\lib\\site-packages (0.11.2)\n",
      "Requirement already satisfied: numpy>1.20 in c:\\users\\agilbert3\\appdata\\local\\anaconda3\\lib\\site-packages (from ale-py) (2.1.3)\n",
      "Requirement already satisfied: autorom[accept-rom-license] in c:\\users\\agilbert3\\appdata\\local\\anaconda3\\lib\\site-packages (0.6.1)\n",
      "Requirement already satisfied: click in c:\\users\\agilbert3\\appdata\\local\\anaconda3\\lib\\site-packages (from autorom[accept-rom-license]) (8.1.8)\n",
      "Requirement already satisfied: requests in c:\\users\\agilbert3\\appdata\\local\\anaconda3\\lib\\site-packages (from autorom[accept-rom-license]) (2.32.3)\n",
      "Requirement already satisfied: AutoROM.accept-rom-license in c:\\users\\agilbert3\\appdata\\local\\anaconda3\\lib\\site-packages (from autorom[accept-rom-license]) (0.6.1)\n",
      "Requirement already satisfied: colorama in c:\\users\\agilbert3\\appdata\\local\\anaconda3\\lib\\site-packages (from click->autorom[accept-rom-license]) (0.4.6)\n",
      "Requirement already satisfied: charset-normalizer<4,>=2 in c:\\users\\agilbert3\\appdata\\local\\anaconda3\\lib\\site-packages (from requests->autorom[accept-rom-license]) (3.3.2)\n",
      "Requirement already satisfied: idna<4,>=2.5 in c:\\users\\agilbert3\\appdata\\local\\anaconda3\\lib\\site-packages (from requests->autorom[accept-rom-license]) (3.7)\n",
      "Requirement already satisfied: urllib3<3,>=1.21.1 in c:\\users\\agilbert3\\appdata\\local\\anaconda3\\lib\\site-packages (from requests->autorom[accept-rom-license]) (2.3.0)\n",
      "Requirement already satisfied: certifi>=2017.4.17 in c:\\users\\agilbert3\\appdata\\local\\anaconda3\\lib\\site-packages (from requests->autorom[accept-rom-license]) (2025.4.26)\n",
      "Requirement already satisfied: matplotlib in c:\\users\\agilbert3\\appdata\\local\\anaconda3\\lib\\site-packages (3.10.0)\n",
      "Requirement already satisfied: contourpy>=1.0.1 in c:\\users\\agilbert3\\appdata\\local\\anaconda3\\lib\\site-packages (from matplotlib) (1.3.1)\n",
      "Requirement already satisfied: cycler>=0.10 in c:\\users\\agilbert3\\appdata\\local\\anaconda3\\lib\\site-packages (from matplotlib) (0.11.0)\n",
      "Requirement already satisfied: fonttools>=4.22.0 in c:\\users\\agilbert3\\appdata\\local\\anaconda3\\lib\\site-packages (from matplotlib) (4.55.3)\n",
      "Requirement already satisfied: kiwisolver>=1.3.1 in c:\\users\\agilbert3\\appdata\\local\\anaconda3\\lib\\site-packages (from matplotlib) (1.4.8)\n",
      "Requirement already satisfied: numpy>=1.23 in c:\\users\\agilbert3\\appdata\\local\\anaconda3\\lib\\site-packages (from matplotlib) (2.1.3)\n",
      "Requirement already satisfied: packaging>=20.0 in c:\\users\\agilbert3\\appdata\\local\\anaconda3\\lib\\site-packages (from matplotlib) (24.2)\n",
      "Requirement already satisfied: pillow>=8 in c:\\users\\agilbert3\\appdata\\local\\anaconda3\\lib\\site-packages (from matplotlib) (11.1.0)\n",
      "Requirement already satisfied: pyparsing>=2.3.1 in c:\\users\\agilbert3\\appdata\\local\\anaconda3\\lib\\site-packages (from matplotlib) (3.2.0)\n",
      "Requirement already satisfied: python-dateutil>=2.7 in c:\\users\\agilbert3\\appdata\\local\\anaconda3\\lib\\site-packages (from matplotlib) (2.9.0.post0)\n",
      "Requirement already satisfied: six>=1.5 in c:\\users\\agilbert3\\appdata\\local\\anaconda3\\lib\\site-packages (from python-dateutil>=2.7->matplotlib) (1.17.0)\n",
      "Requirement already satisfied: scipy in c:\\users\\agilbert3\\appdata\\local\\anaconda3\\lib\\site-packages (1.15.3)\n",
      "Requirement already satisfied: numpy<2.5,>=1.23.5 in c:\\users\\agilbert3\\appdata\\local\\anaconda3\\lib\\site-packages (from scipy) (2.1.3)\n"
     ]
    }
   ],
   "source": [
    "!pip install gymnasium\n",
    "!pip install \"gymnasium[atari]\"\n",
    "!pip install ale-py\n",
    "!pip install autorom[accept-rom-license]\n",
    "!pip install matplotlib\n",
    "!pip install scipy"
   ]
  },
  {
   "cell_type": "code",
   "execution_count": 1,
   "id": "a1f08501-2fbf-45f5-898b-dc448808f919",
   "metadata": {},
   "outputs": [
    {
     "name": "stdout",
     "output_type": "stream",
     "text": [
      "===== classic_control =====\n",
      "Acrobot-v1                  CartPole-v0                 CartPole-v1\n",
      "MountainCar-v0              MountainCarContinuous-v0    Pendulum-v1\n",
      "===== phys2d =====\n",
      "phys2d/CartPole-v0          phys2d/CartPole-v1          phys2d/Pendulum-v0\n",
      "===== box2d =====\n",
      "BipedalWalker-v3            BipedalWalkerHardcore-v3    CarRacing-v3\n",
      "LunarLander-v3              LunarLanderContinuous-v3\n",
      "===== toy_text =====\n",
      "Blackjack-v1                CliffWalking-v1             CliffWalkingSlippery-v1\n",
      "FrozenLake-v1               FrozenLake8x8-v1            Taxi-v3\n",
      "===== tabular =====\n",
      "tabular/Blackjack-v0        tabular/CliffWalking-v0\n",
      "===== None =====\n",
      "Ant-v2                      Ant-v3                      GymV21Environment-v0\n",
      "GymV26Environment-v0        HalfCheetah-v2              HalfCheetah-v3\n",
      "Hopper-v2                   Hopper-v3                   Humanoid-v2\n",
      "Humanoid-v3                 HumanoidStandup-v2          InvertedDoublePendulum-v2\n",
      "InvertedPendulum-v2         Pusher-v2                   Reacher-v2\n",
      "Swimmer-v2                  Swimmer-v3                  Walker2d-v2\n",
      "Walker2d-v3\n",
      "===== mujoco =====\n",
      "Ant-v4                      Ant-v5                      HalfCheetah-v4\n",
      "HalfCheetah-v5              Hopper-v4                   Hopper-v5\n",
      "Humanoid-v4                 Humanoid-v5                 HumanoidStandup-v4\n",
      "HumanoidStandup-v5          InvertedDoublePendulum-v4   InvertedDoublePendulum-v5\n",
      "InvertedPendulum-v4         InvertedPendulum-v5         Pusher-v4\n",
      "Pusher-v5                   Reacher-v4                  Reacher-v5\n",
      "Swimmer-v4                  Swimmer-v5                  Walker2d-v4\n",
      "Walker2d-v5\n",
      "===== env =====\n",
      "Adventure-v0                Adventure-v4                AdventureNoFrameskip-v0\n",
      "AdventureNoFrameskip-v4     AirRaid-v0                  AirRaid-v4\n",
      "AirRaidNoFrameskip-v0       AirRaidNoFrameskip-v4       Alien-v0\n",
      "Alien-v4                    AlienNoFrameskip-v0         AlienNoFrameskip-v4\n",
      "Amidar-v0                   Amidar-v4                   AmidarNoFrameskip-v0\n",
      "AmidarNoFrameskip-v4        Assault-v0                  Assault-v4\n",
      "AssaultNoFrameskip-v0       AssaultNoFrameskip-v4       Asterix-v0\n",
      "Asterix-v4                  AsterixNoFrameskip-v0       AsterixNoFrameskip-v4\n",
      "Asteroids-v0                Asteroids-v4                AsteroidsNoFrameskip-v0\n",
      "AsteroidsNoFrameskip-v4     Atlantis-v0                 Atlantis-v4\n",
      "AtlantisNoFrameskip-v0      AtlantisNoFrameskip-v4      BankHeist-v0\n",
      "BankHeist-v4                BankHeistNoFrameskip-v0     BankHeistNoFrameskip-v4\n",
      "BattleZone-v0               BattleZone-v4               BattleZoneNoFrameskip-v0\n",
      "BattleZoneNoFrameskip-v4    BeamRider-v0                BeamRider-v4\n",
      "BeamRiderNoFrameskip-v0     BeamRiderNoFrameskip-v4     Berzerk-v0\n",
      "Berzerk-v4                  BerzerkNoFrameskip-v0       BerzerkNoFrameskip-v4\n",
      "Bowling-v0                  Bowling-v4                  BowlingNoFrameskip-v0\n",
      "BowlingNoFrameskip-v4       Boxing-v0                   Boxing-v4\n",
      "BoxingNoFrameskip-v0        BoxingNoFrameskip-v4        Breakout-v0\n",
      "Breakout-v4                 BreakoutNoFrameskip-v0      BreakoutNoFrameskip-v4\n",
      "Carnival-v0                 Carnival-v4                 CarnivalNoFrameskip-v0\n",
      "CarnivalNoFrameskip-v4      Centipede-v0                Centipede-v4\n",
      "CentipedeNoFrameskip-v0     CentipedeNoFrameskip-v4     ChopperCommand-v0\n",
      "ChopperCommand-v4           ChopperCommandNoFrameskip-v0 ChopperCommandNoFrameskip-v4\n",
      "CrazyClimber-v0             CrazyClimber-v4             CrazyClimberNoFrameskip-v0\n",
      "CrazyClimberNoFrameskip-v4  Defender-v0                 Defender-v4\n",
      "DefenderNoFrameskip-v0      DefenderNoFrameskip-v4      DemonAttack-v0\n",
      "DemonAttack-v4              DemonAttackNoFrameskip-v0   DemonAttackNoFrameskip-v4\n",
      "DoubleDunk-v0               DoubleDunk-v4               DoubleDunkNoFrameskip-v0\n",
      "DoubleDunkNoFrameskip-v4    ElevatorAction-v0           ElevatorAction-v4\n",
      "ElevatorActionNoFrameskip-v0 ElevatorActionNoFrameskip-v4 Enduro-v0\n",
      "Enduro-v4                   EnduroNoFrameskip-v0        EnduroNoFrameskip-v4\n",
      "FishingDerby-v0             FishingDerby-v4             FishingDerbyNoFrameskip-v0\n",
      "FishingDerbyNoFrameskip-v4  Freeway-v0                  Freeway-v4\n",
      "FreewayNoFrameskip-v0       FreewayNoFrameskip-v4       Frostbite-v0\n",
      "Frostbite-v4                FrostbiteNoFrameskip-v0     FrostbiteNoFrameskip-v4\n",
      "Gopher-v0                   Gopher-v4                   GopherNoFrameskip-v0\n",
      "GopherNoFrameskip-v4        Gravitar-v0                 Gravitar-v4\n",
      "GravitarNoFrameskip-v0      GravitarNoFrameskip-v4      Hero-v0\n",
      "Hero-v4                     HeroNoFrameskip-v0          HeroNoFrameskip-v4\n",
      "IceHockey-v0                IceHockey-v4                IceHockeyNoFrameskip-v0\n",
      "IceHockeyNoFrameskip-v4     Jamesbond-v0                Jamesbond-v4\n",
      "JamesbondNoFrameskip-v0     JamesbondNoFrameskip-v4     JourneyEscape-v0\n",
      "JourneyEscape-v4            JourneyEscapeNoFrameskip-v0 JourneyEscapeNoFrameskip-v4\n",
      "Kangaroo-v0                 Kangaroo-v4                 KangarooNoFrameskip-v0\n",
      "KangarooNoFrameskip-v4      Krull-v0                    Krull-v4\n",
      "KrullNoFrameskip-v0         KrullNoFrameskip-v4         KungFuMaster-v0\n",
      "KungFuMaster-v4             KungFuMasterNoFrameskip-v0  KungFuMasterNoFrameskip-v4\n",
      "MontezumaRevenge-v0         MontezumaRevenge-v4         MontezumaRevengeNoFrameskip-v0\n",
      "MontezumaRevengeNoFrameskip-v4 MsPacman-v0                 MsPacman-v4\n",
      "MsPacmanNoFrameskip-v0      MsPacmanNoFrameskip-v4      NameThisGame-v0\n",
      "NameThisGame-v4             NameThisGameNoFrameskip-v0  NameThisGameNoFrameskip-v4\n",
      "Phoenix-v0                  Phoenix-v4                  PhoenixNoFrameskip-v0\n",
      "PhoenixNoFrameskip-v4       Pitfall-v0                  Pitfall-v4\n",
      "PitfallNoFrameskip-v0       PitfallNoFrameskip-v4       Pong-v0\n",
      "Pong-v4                     PongNoFrameskip-v0          PongNoFrameskip-v4\n",
      "Pooyan-v0                   Pooyan-v4                   PooyanNoFrameskip-v0\n",
      "PooyanNoFrameskip-v4        PrivateEye-v0               PrivateEye-v4\n",
      "PrivateEyeNoFrameskip-v0    PrivateEyeNoFrameskip-v4    Qbert-v0\n",
      "Qbert-v4                    QbertNoFrameskip-v0         QbertNoFrameskip-v4\n",
      "Riverraid-v0                Riverraid-v4                RiverraidNoFrameskip-v0\n",
      "RiverraidNoFrameskip-v4     RoadRunner-v0               RoadRunner-v4\n",
      "RoadRunnerNoFrameskip-v0    RoadRunnerNoFrameskip-v4    Robotank-v0\n",
      "Robotank-v4                 RobotankNoFrameskip-v0      RobotankNoFrameskip-v4\n",
      "Seaquest-v0                 Seaquest-v4                 SeaquestNoFrameskip-v0\n",
      "SeaquestNoFrameskip-v4      Skiing-v0                   Skiing-v4\n",
      "SkiingNoFrameskip-v0        SkiingNoFrameskip-v4        Solaris-v0\n",
      "Solaris-v4                  SolarisNoFrameskip-v0       SolarisNoFrameskip-v4\n",
      "SpaceInvaders-v0            SpaceInvaders-v4            SpaceInvadersNoFrameskip-v0\n",
      "SpaceInvadersNoFrameskip-v4 StarGunner-v0               StarGunner-v4\n",
      "StarGunnerNoFrameskip-v0    StarGunnerNoFrameskip-v4    Tennis-v0\n",
      "Tennis-v4                   TennisNoFrameskip-v0        TennisNoFrameskip-v4\n",
      "TimePilot-v0                TimePilot-v4                TimePilotNoFrameskip-v0\n",
      "TimePilotNoFrameskip-v4     Tutankham-v0                Tutankham-v4\n",
      "TutankhamNoFrameskip-v0     TutankhamNoFrameskip-v4     UpNDown-v0\n",
      "UpNDown-v4                  UpNDownNoFrameskip-v0       UpNDownNoFrameskip-v4\n",
      "Venture-v0                  Venture-v4                  VentureNoFrameskip-v0\n",
      "VentureNoFrameskip-v4       VideoPinball-v0             VideoPinball-v4\n",
      "VideoPinballNoFrameskip-v0  VideoPinballNoFrameskip-v4  WizardOfWor-v0\n",
      "WizardOfWor-v4              WizardOfWorNoFrameskip-v0   WizardOfWorNoFrameskip-v4\n",
      "YarsRevenge-v0              YarsRevenge-v4              YarsRevengeNoFrameskip-v0\n",
      "YarsRevengeNoFrameskip-v4   Zaxxon-v0                   Zaxxon-v4\n",
      "ZaxxonNoFrameskip-v0        ZaxxonNoFrameskip-v4\n",
      "===== ALE =====\n",
      "ALE/Adventure-v5            ALE/AirRaid-v5              ALE/Alien-v5\n",
      "ALE/Amidar-v5               ALE/Assault-v5              ALE/Asterix-v5\n",
      "ALE/Asteroids-v5            ALE/Atlantis-v5             ALE/Atlantis2-v5\n",
      "ALE/Backgammon-v5           ALE/BankHeist-v5            ALE/BasicMath-v5\n",
      "ALE/BattleZone-v5           ALE/BeamRider-v5            ALE/Berzerk-v5\n",
      "ALE/Blackjack-v5            ALE/Bowling-v5              ALE/Boxing-v5\n",
      "ALE/Breakout-v5             ALE/Carnival-v5             ALE/Casino-v5\n",
      "ALE/Centipede-v5            ALE/ChopperCommand-v5       ALE/CrazyClimber-v5\n",
      "ALE/Crossbow-v5             ALE/Darkchambers-v5         ALE/Defender-v5\n",
      "ALE/DemonAttack-v5          ALE/DonkeyKong-v5           ALE/DoubleDunk-v5\n",
      "ALE/Earthworld-v5           ALE/ElevatorAction-v5       ALE/Enduro-v5\n",
      "ALE/Entombed-v5             ALE/Et-v5                   ALE/FishingDerby-v5\n",
      "ALE/FlagCapture-v5          ALE/Freeway-v5              ALE/Frogger-v5\n",
      "ALE/Frostbite-v5            ALE/Galaxian-v5             ALE/Gopher-v5\n",
      "ALE/Gravitar-v5             ALE/Hangman-v5              ALE/HauntedHouse-v5\n",
      "ALE/Hero-v5                 ALE/HumanCannonball-v5      ALE/IceHockey-v5\n",
      "ALE/Jamesbond-v5            ALE/JourneyEscape-v5        ALE/Kaboom-v5\n",
      "ALE/Kangaroo-v5             ALE/KeystoneKapers-v5       ALE/KingKong-v5\n",
      "ALE/Klax-v5                 ALE/Koolaid-v5              ALE/Krull-v5\n",
      "ALE/KungFuMaster-v5         ALE/LaserGates-v5           ALE/LostLuggage-v5\n",
      "ALE/MarioBros-v5            ALE/MiniatureGolf-v5        ALE/MontezumaRevenge-v5\n",
      "ALE/MrDo-v5                 ALE/MsPacman-v5             ALE/NameThisGame-v5\n",
      "ALE/Othello-v5              ALE/Pacman-v5               ALE/Phoenix-v5\n",
      "ALE/Pitfall-v5              ALE/Pitfall2-v5             ALE/Pong-v5\n",
      "ALE/Pooyan-v5               ALE/PrivateEye-v5           ALE/Qbert-v5\n",
      "ALE/Riverraid-v5            ALE/RoadRunner-v5           ALE/Robotank-v5\n",
      "ALE/Seaquest-v5             ALE/SirLancelot-v5          ALE/Skiing-v5\n",
      "ALE/Solaris-v5              ALE/SpaceInvaders-v5        ALE/SpaceWar-v5\n",
      "ALE/StarGunner-v5           ALE/Superman-v5             ALE/Surround-v5\n",
      "ALE/Tennis-v5               ALE/Tetris-v5               ALE/TicTacToe3D-v5\n",
      "ALE/TimePilot-v5            ALE/Trondead-v5             ALE/Turmoil-v5\n",
      "ALE/Tutankham-v5            ALE/UpNDown-v5              ALE/Venture-v5\n",
      "ALE/VideoCheckers-v5        ALE/VideoChess-v5           ALE/VideoCube-v5\n",
      "ALE/VideoPinball-v5         ALE/WizardOfWor-v5          ALE/WordZapper-v5\n",
      "ALE/YarsRevenge-v5          ALE/Zaxxon-v5\n"
     ]
    }
   ],
   "source": [
    "import ale_py\n",
    "import gymnasium as gym\n",
    "\n",
    "# Register the ALE environments\n",
    "gym.register_envs(ale_py)\n",
    "\n",
    "# Now check the registry\n",
    "gym.pprint_registry()"
   ]
  },
  {
   "cell_type": "code",
   "execution_count": 13,
   "id": "805f4529-b306-4306-93aa-a50cb6293018",
   "metadata": {
    "editable": true,
    "slideshow": {
     "slide_type": ""
    },
    "tags": []
   },
   "outputs": [
    {
     "data": {
      "image/png": "[encoded data removed]",
      "text/plain": [
       "<Figure size 600x800 with 1 Axes>"
      ]
     },
     "metadata": {},
     "output_type": "display_data"
    },
    {
     "name": "stdout",
     "output_type": "stream",
     "text": [
      "===== SAMPLE STATS =====\n",
      "Avg pellets per game: 0.74\n",
      "Avg ghosts per game:  29.73\n",
      "Games with ≥1 pellet: 47.0%\n",
      "\n",
      "===== RESULTS =====\n",
      "Target ghosts (exactly): 2\n",
      "Theoretical probability (avg): 0.0857\n",
      "Empirical probability:         0.0000\n",
      "Simulated games: 100\n"
     ]
    }
   ],
   "source": [
    "import gymnasium as gym\n",
    "import numpy as np\n",
    "import random\n",
    "from scipy.stats import binom\n",
    "import matplotlib.pyplot as plt\n",
    "from IPython.display import clear_output, display\n",
    "import time\n",
    "\n",
    "# ---------- PARAMETERS ----------\n",
    "p_catch = 0.6             # probability Pac-Man catches ≥1 ghost per pellet\n",
    "power_mode_duration = 80  # frames pellet effect lasts\n",
    "games_to_visualize = 1   # show this many games with rendering\n",
    "games_to_simulate = 100   # total simulated games\n",
    "target_ghosts = 2         # we’ll look for exactly 2 ghosts caught\n",
    "\n",
    "# ---------- ENV SETUP ----------\n",
    "env = gym.make('ALE/MsPacman-v5', render_mode='rgb_array')\n",
    "\n",
    "total_ghosts_caught = []\n",
    "total_pellets_eaten = []\n",
    "\n",
    "# ---------- RUN GAMES (visualize first few) ----------\n",
    "fig, ax = plt.subplots(figsize=(6,8))\n",
    "ax.axis('off')\n",
    "display(fig)\n",
    "\n",
    "for game in range(games_to_simulate):\n",
    "    obs, info = env.reset()\n",
    "    pellets = 0\n",
    "    ghosts = 0\n",
    "    power_mode = False\n",
    "    power_timer = 0\n",
    "    total_reward = 0.0\n",
    "\n",
    "    steps = 800 if game < games_to_visualize else 400\n",
    "    for step in range(steps):\n",
    "        action = env.action_space.sample()\n",
    "        obs, reward, terminated, truncated, info = env.step(action)\n",
    "        total_reward += reward\n",
    "\n",
    "        # --- Simulate random pellet encounters ---\n",
    "        # Small random chance each frame to \"find\" a pellet\n",
    "        if random.random() < 0.002:  # ~0.2% chance per frame\n",
    "            pellets += 1\n",
    "            power_mode = True\n",
    "            power_timer = power_mode_duration\n",
    "\n",
    "        # --- Ghost catching during power mode ---\n",
    "        if power_mode:\n",
    "            # Each frame of power mode, chance to catch ghost(s)\n",
    "            if random.random() < p_catch:\n",
    "                ghosts += 1\n",
    "            power_timer -= 1\n",
    "            if power_timer <= 0:\n",
    "                power_mode = False\n",
    "\n",
    "        # --- Visualization (first few games only) ---\n",
    "        if game < games_to_visualize:\n",
    "            clear_output(wait=True)\n",
    "            ax.clear()\n",
    "            ax.imshow(env.render())\n",
    "            ax.set_title(\n",
    "                f\"🎮 Game {game+1}/{games_to_simulate}\\n\"\n",
    "                f\"Step {step} | Reward {total_reward:.0f}\\n\"\n",
    "                f\"Pellets: {pellets} | Ghosts: {ghosts}\"\n",
    "            )\n",
    "            ax.axis('off')\n",
    "            display(fig)\n",
    "            time.sleep(0.02)\n",
    "\n",
    "        if terminated or truncated:\n",
    "            break\n",
    "\n",
    "    total_ghosts_caught.append(ghosts)\n",
    "    total_pellets_eaten.append(pellets)\n",
    "\n",
    "plt.close()\n",
    "env.close()\n",
    "\n",
    "# ---------- DIAGNOSTICS ----------\n",
    "total_ghosts_caught = np.array(total_ghosts_caught)\n",
    "total_pellets_eaten = np.array(total_pellets_eaten)\n",
    "\n",
    "print(\"===== SAMPLE STATS =====\")\n",
    "print(f\"Avg pellets per game: {total_pellets_eaten.mean():.2f}\")\n",
    "print(f\"Avg ghosts per game:  {total_ghosts_caught.mean():.2f}\")\n",
    "print(f\"Games with ≥1 pellet: {(total_pellets_eaten>0).mean()*100:.1f}%\")\n",
    "\n",
    "# ---------- EMPIRICAL PROBABILITY ----------\n",
    "empirical_prob = np.mean(total_ghosts_caught == target_ghosts)\n",
    "\n",
    "# ---------- THEORETICAL PROBABILITY ----------\n",
    "# Use per-game pellets as n in the binomial model\n",
    "theoretical_probs = []\n",
    "for pe in total_pellets_eaten:\n",
    "    n = int(pe)\n",
    "    if n >= target_ghosts:\n",
    "        theoretical_probs.append(binom.pmf(target_ghosts, n, p_catch))\n",
    "    else:\n",
    "        theoretical_probs.append(0)\n",
    "theoretical_prob_avg = np.mean(theoretical_probs)\n",
    "\n",
    "# ---------- OUTPUT RESULTS ----------\n",
    "print(\"\\n===== RESULTS =====\")\n",
    "print(f\"Target ghosts (exactly): {target_ghosts}\")\n",
    "print(f\"Theoretical probability (avg): {theoretical_prob_avg:.4f}\")\n",
    "print(f\"Empirical probability:         {empirical_prob:.4f}\")\n",
    "print(f\"Simulated games: {games_to_simulate}\")\n"
   ]
  },
  {
   "cell_type": "code",
   "execution_count": 7,
   "id": "baa60ccf-5cd2-452c-b357-356439fece0f",
   "metadata": {},
   "outputs": [
    {
     "name": "stdout",
     "output_type": "stream",
     "text": [
      "Avg theoretical (per-game pellets): 0.0000\n",
      "Empirical prob: 0.0000\n"
     ]
    }
   ],
   "source": [
    "# after running your simulations and collecting total_pellets_eaten (list) and total_ghosts_caught\n",
    "import numpy as np\n",
    "from scipy.stats import binom\n",
    "\n",
    "target_ghosts = 2\n",
    "p_catch = 0.6\n",
    "\n",
    "# theoretical per-game (using observed pellet counts) then averaged\n",
    "per_game_theoretical = [\n",
    "    binom.pmf(target_ghosts, pe, p_catch) if pe >= target_ghosts else 0.0\n",
    "    for pe in total_pellets_eaten\n",
    "]\n",
    "theoretical_prob_avg = np.mean(per_game_theoretical)\n",
    "\n",
    "empirical_prob = np.mean(np.array(total_ghosts_caught) == target_ghosts)\n",
    "\n",
    "print(f\"Avg theoretical (per-game pellets): {theoretical_prob_avg:.4f}\")\n",
    "print(f\"Empirical prob: {empirical_prob:.4f}\")\n"
   ]
  },
  {
   "cell_type": "code",
   "execution_count": 5,
   "id": "f7cdff51-8585-408e-896d-22cdc9dd3623",
   "metadata": {},
   "outputs": [
    {
     "name": "stdout",
     "output_type": "stream",
     "text": [
      "Matplotlib is installed!\n"
     ]
    }
   ],
   "source": [
    "import matplotlib.pyplot as plt\n",
    "print(\"Matplotlib is installed!\")\n"
   ]
  },
  {
   "cell_type": "code",
   "execution_count": 7,
   "id": "6c2ff21b-e86e-4415-a087-4a6b619bd54b",
   "metadata": {},
   "outputs": [
    {
     "name": "stdout",
     "output_type": "stream",
     "text": [
      "C:\\Users\\agilbert3\\AppData\\Local\\anaconda3\\envs\\gym_env\\python.exe\n"
     ]
    }
   ],
   "source": [
    "import sys\n",
    "print(sys.executable)\n"
   ]
  },
  {
   "cell_type": "code",
   "execution_count": 6,
   "id": "0a043288-ab9c-4c1d-9ff4-c7b33036a4c2",
   "metadata": {},
   "outputs": [
    {
     "name": "stdout",
     "output_type": "stream",
     "text": [
      "Scipy is installed and stats is ready!\n"
     ]
    }
   ],
   "source": [
    "from scipy import stats\n",
    "print(\"Scipy is installed and stats is ready!\")\n"
   ]
  },
  {
   "cell_type": "markdown",
   "id": "05f872fe-c21c-469c-9733-67dab7924624",
   "metadata": {},
   "source": [
    "### Answer"
   ]
  },
  {
   "cell_type": "markdown",
   "id": "5f64d275-1326-40d3-926d-ab7b2572b5aa",
   "metadata": {},
   "source": [
    "Running my simulation I discovered a lot of things and ran into a lot of problems while crafting it. The question, \"Each time Pac-Man eats a power pellet, there’s a 60% chance he catches at least one ghost before the effect wears off. If he eats 8 power pellets in a game, what is the probability that he catches ghosts 3 times?\" Is flawed and overestimated what can be done with the engine. The theoretical probability I calculated was .0857% and I ended up running 100 trials since thats all the simulation could do without crashing or taking years, and I ended up getting an emperical of 0 because of this. Since pacman moves in a random direction he usually dies before picking up a power pellet only 47% of the time he actually ran into a power pellet let alone ran into a ghost after picking it up. He averaged 29 ghosts per game because of the extra pellets I put into the simulation so he could actually get a number, yet he never got exactly 2 ghosts in the simulation because of how many trials I ran which is a bias in my simuluation."
   ]
  },
  {
   "cell_type": "code",
   "execution_count": null,
   "id": "4b8b32dc-fd64-449e-a766-e6115bdc9ca8",
   "metadata": {},
   "outputs": [],
   "source": []
  }
 ],
 "metadata": {
  "kernelspec": {
   "display_name": "Python (gym_env)",
   "language": "python",
   "name": "gym_env"
  },
  "language_info": {
   "codemirror_mode": {
    "name": "ipython",
    "version": 3
   },
   "file_extension": ".py",
   "mimetype": "text/x-python",
   "name": "python",
   "nbconvert_exporter": "python",
   "pygments_lexer": "ipython3",
   "version": "3.10.19"
  }
 },
 "nbformat": 4,
 "nbformat_minor": 5
}
