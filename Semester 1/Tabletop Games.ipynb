{
 "cells": [
  {
   "cell_type": "markdown",
   "id": "d3ce131a-ba6f-4407-8197-ea81cd114eb9",
   "metadata": {},
   "source": [
    "# UNO"
   ]
  },
  {
   "cell_type": "markdown",
   "id": "2944e596-8c30-467f-8409-c9169c0bd136",
   "metadata": {},
   "source": [
    "Observational study (no manipulation of variables) and observing the numbers and percentages, then get a conclusion based on these numbers."
   ]
  },
  {
   "cell_type": "markdown",
   "id": "b1553e7b-0c76-486b-b7e5-f77f2eea6cab",
   "metadata": {},
   "source": [
    "Question:\n",
    "\n",
    "What's the probability of drawing a +4 followed by a wild or a wild followed by a +4 (assuming no other cards have been handed out)"
   ]
  },
  {
   "cell_type": "markdown",
   "id": "42cabf90-7962-44ef-b439-fb7052b0aa6c",
   "metadata": {},
   "source": [
    "The number of +4's in the deck is 4\n",
    "\n",
    "The number of wild cards in the deck is 4 (not including wild +4's)\n",
    "\n",
    "The number of cards in an Uno deck is 108 (sample space)\n",
    "\n",
    "A trial in this simulation counts as 1 run to see if I draw the card, followed by a wild (I will run 10,000 trials)\n",
    "\n",
    "The outcome I'm measuring is seeing if I draw a +4, then a wild right after.\n",
    "\n",
    "Possible bias could be that I can't get a number fully accurate to the theoretical due to only 10,000 trials being ran"
   ]
  },
  {
   "cell_type": "code",
   "execution_count": 31,
   "id": "91518c83-9fa3-43ee-86b5-5c79c0bc1fc3",
   "metadata": {},
   "outputs": [],
   "source": [
    "import random\n",
    "import seaborn as sns\n",
    "import matplotlib.pyplot as pl"
   ]
  },
  {
   "cell_type": "markdown",
   "id": "7686c8e8-25ff-413f-a525-79d3382a51fd",
   "metadata": {},
   "source": [
    "Theoretically I calculated a 0.27691% chance that you draw both these cards about 1/361\n",
    "2(cards) * 4/108(first draw) * 4/107 = 0.0027691"
   ]
  },
  {
   "cell_type": "code",
   "execution_count": 32,
   "id": "444509d6-2d82-4d8f-b847-5d4ac8550445",
   "metadata": {},
   "outputs": [
    {
     "name": "stdout",
     "output_type": "stream",
     "text": [
      "\n",
      "--- SUMMARY ---\n",
      "Total Games: 10000\n",
      "Combo Occurrences: 22 (0.22%)\n",
      "Non-Combo Occurrences: 9978 (99.78%)\n",
      "\n",
      "Combo appeared in these games:\n",
      "  Game 605: Wild | Wild Draw Four\n",
      "  Game 1529: Wild Draw Four | Wild\n",
      "  Game 1657: Wild | Wild Draw Four\n",
      "  Game 2445: Wild Draw Four | Wild\n",
      "  Game 2589: Wild Draw Four | Wild\n",
      "  Game 2917: Wild | Wild Draw Four\n",
      "  Game 3461: Wild | Wild Draw Four\n",
      "  Game 3491: Wild Draw Four | Wild\n",
      "  Game 3552: Wild | Wild Draw Four\n",
      "  Game 3575: Wild Draw Four | Wild\n",
      "  Game 4742: Wild Draw Four | Wild\n",
      "  Game 5538: Wild | Wild Draw Four\n",
      "  Game 6168: Wild | Wild Draw Four\n",
      "  Game 6191: Wild | Wild Draw Four\n",
      "  Game 6626: Wild | Wild Draw Four\n",
      "  Game 7170: Wild | Wild Draw Four\n",
      "  Game 7772: Wild | Wild Draw Four\n",
      "  Game 8232: Wild Draw Four | Wild\n",
      "  Game 8275: Wild | Wild Draw Four\n",
      "  Game 9466: Wild Draw Four | Wild\n",
      "  Game 9525: Wild | Wild Draw Four\n",
      "  Game 9794: Wild Draw Four | Wild\n"
     ]
    }
   ],
   "source": [
    "import random\n",
    "\n",
    "def build_uno_deck():\n",
    "    colors = [\"Red\", \"Yellow\", \"Green\", \"Blue\"]\n",
    "    numbers = [str(i) for i in range(10)]  # 0–9\n",
    "    actions = [\"Skip\", \"Reverse\", \"Draw Two\"]\n",
    "    deck = []\n",
    "\n",
    "    # Number cards: one 0 per color, two each of 1–9\n",
    "    for color in colors:\n",
    "        deck.append(f\"{color} 0\")\n",
    "        for num in range(1, 10):\n",
    "            deck.extend([f\"{color} {num}\", f\"{color} {num}\"])\n",
    "\n",
    "    # Action cards: two of each per color\n",
    "    for color in colors:\n",
    "        for action in actions:\n",
    "            deck.extend([f\"{color} {action}\", f\"{color} {action}\"])\n",
    "\n",
    "    # Wilds\n",
    "    deck.extend([\"Wild\"] * 4)\n",
    "    deck.extend([\"Wild Draw Four\"] * 4)\n",
    "\n",
    "    return deck  # total should be 108 cards\n",
    "\n",
    "\n",
    "combo_count = 0\n",
    "combo_draws = []\n",
    "total_games = 10000\n",
    "\n",
    "for i in range(1, total_games + 1):\n",
    "    # Build and shuffle a fresh deck for each game\n",
    "    deck = build_uno_deck()\n",
    "    random.shuffle(deck)\n",
    "\n",
    "    # Draw two cards\n",
    "    card1 = deck.pop()\n",
    "    card2 = deck.pop()\n",
    "    \n",
    "    # Check for Wild + Wild Draw Four combo\n",
    "    if (card1 == \"Wild\" and card2 == \"Wild Draw Four\") or \\\n",
    "       (card1 == \"Wild Draw Four\" and card2 == \"Wild\"):\n",
    "        combo_count += 1\n",
    "        combo_draws.append((i, card1, card2))\n",
    "\n",
    "# Summary\n",
    "not_combo_count = total_games - combo_count\n",
    "combo_percentage = (combo_count / total_games) * 100\n",
    "not_combo_percentage = 100 - combo_percentage\n",
    "\n",
    "print(\"\\n--- SUMMARY ---\")\n",
    "print(f\"Total Games: {total_games}\")\n",
    "print(f\"Combo Occurrences: {combo_count} ({combo_percentage:.2f}%)\")\n",
    "print(f\"Non-Combo Occurrences: {not_combo_count} ({not_combo_percentage:.2f}%)\")\n",
    "\n",
    "if combo_draws:\n",
    "    print(\"\\nCombo appeared in these games:\")\n",
    "    for game_num, c1, c2 in combo_draws:\n",
    "        print(f\"  Game {game_num}: {c1} | {c2}\")\n",
    "else:\n",
    "    print(\"\\nCombo never appeared in these 1000 games.\")\n"
   ]
  },
  {
   "cell_type": "code",
   "execution_count": 33,
   "id": "c5d0cf87-11e9-499c-b797-889a4f6b638c",
   "metadata": {},
   "outputs": [
    {
     "data": {
      "image/png": "[encoded data removed]",
      "text/plain": [
       "<Figure size 600x600 with 1 Axes>"
      ]
     },
     "metadata": {},
     "output_type": "display_data"
    }
   ],
   "source": [
    "import seaborn as sns\n",
    "import matplotlib.pyplot as plt\n",
    "import pandas as pd\n",
    "\n",
    "# Prepare the summary data\n",
    "summary_data = pd.DataFrame({\n",
    "    \"Outcome\": [\"Combo (Wild + Wild Draw Four)\", \"Non-Combo\"],\n",
    "    \"Count\": [combo_count, not_combo_count]\n",
    "})\n",
    "\n",
    "plt.figure(figsize=(6,6))\n",
    "plt.pie(summary_data[\"Count\"], labels=summary_data[\"Outcome\"], autopct='%1.1f%%', colors=[\"red\", \"blue\"])\n",
    "plt.title(\"UNO: Wild + Wild Draw Four Combo Distribution\")\n",
    "plt.show()"
   ]
  },
  {
   "cell_type": "markdown",
   "id": "569c66fc-3c48-4238-a28a-7e7e72c1f8c3",
   "metadata": {},
   "source": [
    "Answer: The odds for drawing a +4 followed by a wild or a wild followed by a +4 (assuming no other cards have been handed out) theoretically is a 0.27691% chance when you are drawing 2 cards. The empirical data I got, however, was a 0.22% chance. We see from "
   ]
  }
 ],
 "metadata": {
  "kernelspec": {
   "display_name": "anaconda-ai-2024.04-py310",
   "language": "python",
   "name": "conda-env-anaconda-ai-2024.04-py310-py"
  },
  "language_info": {
   "codemirror_mode": {
    "name": "ipython",
    "version": 3
   },
   "file_extension": ".py",
   "mimetype": "text/x-python",
   "name": "python",
   "nbconvert_exporter": "python",
   "pygments_lexer": "ipython3",
   "version": "3.10.13"
  }
 },
 "nbformat": 4,
 "nbformat_minor": 5
}
