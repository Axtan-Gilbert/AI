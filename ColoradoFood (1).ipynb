{
 "cells": [
  {
   "cell_type": "markdown",
   "id": "77758b8e-d0ac-4586-be68-138f8dd3b07f",
   "metadata": {},
   "source": [
    "QUESTION:"
   ]
  },
  {
   "cell_type": "markdown",
   "id": "57855679-134d-49fa-ae7d-45bdcd62ab06",
   "metadata": {},
   "source": [
    "What is the correlation between the ratings between yelp and google."
   ]
  },
  {
   "cell_type": "code",
   "execution_count": 4,
   "id": "02815134-80f0-44de-b52b-9c16d10670b1",
   "metadata": {},
   "outputs": [
    {
     "name": "stdout",
     "output_type": "stream",
     "text": [
      "Defaulting to user installation because normal site-packages is not writeable\n",
      "Looking in links: /usr/share/pip-wheels\n",
      "Requirement already satisfied: scikit-learn in /opt/conda/envs/anaconda-ai-2024.04-py310/lib/python3.10/site-packages (1.3.0)\n",
      "Requirement already satisfied: numpy>=1.17.3 in /opt/conda/envs/anaconda-ai-2024.04-py310/lib/python3.10/site-packages (from scikit-learn) (1.26.4)\n",
      "Requirement already satisfied: scipy>=1.5.0 in /opt/conda/envs/anaconda-ai-2024.04-py310/lib/python3.10/site-packages (from scikit-learn) (1.12.0)\n",
      "Requirement already satisfied: joblib>=1.1.1 in /opt/conda/envs/anaconda-ai-2024.04-py310/lib/python3.10/site-packages (from scikit-learn) (1.2.0)\n",
      "Requirement already satisfied: threadpoolctl>=2.0.0 in /opt/conda/envs/anaconda-ai-2024.04-py310/lib/python3.10/site-packages (from scikit-learn) (2.2.0)\n"
     ]
    }
   ],
   "source": [
    "#Imports important stuff I need\n",
    "import numpy as np\n",
    "import pandas as pd\n",
    "import os\n",
    "import matplotlib.pyplot as plt\n",
    "import seaborn as sns\n",
    "import matplotlib.colors as mcolors\n",
    "\n",
    "!pip install scikit-learn\n",
    "import sklearn\n",
    "\n",
    "Colorado_food_filename = 'Food.csv'\n",
    "Colorado_food = pd.read_csv(Colorado_food_filename)\n",
    "df = Colorado_food"
   ]
  },
  {
   "cell_type": "code",
   "execution_count": 6,
   "id": "7240e4e7-b19b-4923-85bc-a91f2329535d",
   "metadata": {},
   "outputs": [],
   "source": [
    "from sklearn.linear_model import LinearRegression"
   ]
  },
  {
   "cell_type": "code",
   "execution_count": 8,
   "id": "fc4955b2-288e-4ff8-8934-a6b7c5c7eb40",
   "metadata": {},
   "outputs": [
    {
     "name": "stdout",
     "output_type": "stream",
     "text": [
      "Index(['Name', 'Neighborhood', 'Yelp Rating', 'Yelp Reviews', 'Google Rating',\n",
      "       'Google Reviews'],\n",
      "      dtype='object')\n"
     ]
    }
   ],
   "source": [
    "print(df.columns)"
   ]
  },
  {
   "cell_type": "code",
   "execution_count": 30,
   "id": "dbf5fe32-85e1-465e-956c-e324a579c0e5",
   "metadata": {},
   "outputs": [],
   "source": [
    "#  Change ? values into the median to not ruin the data\n",
    "df[\"Yelp Rating\"] = df[\"Yelp Rating\"].replace(\"?\", np.nan)\n",
    "df[\"Yelp Rating\"] = pd.to_numeric(df[\"Yelp Rating\"], errors=\"coerce\")\n",
    "df[\"Yelp Rating\"] = df[\"Yelp Rating\"].fillna(df[\"Yelp Rating\"].median())  # replace NaN with median\n"
   ]
  },
  {
   "cell_type": "code",
   "execution_count": 27,
   "id": "4e3d9fd9-1d95-420d-b455-d5a8da19d819",
   "metadata": {},
   "outputs": [],
   "source": [
    "# Change ? values into the median to not ruin the data\n",
    "df[\"Google Rating\"] = df[\"Google Rating\"].replace(\"?\", np.nan)\n",
    "df[\"Google Rating\"] = pd.to_numeric(df[\"Google Rating\"], errors=\"coerce\")\n",
    "df[\"Google Rating\"] = df[\"Google Rating\"].fillna(df[\"Google Rating\"].median())  # replace NaN with median\n"
   ]
  },
  {
   "cell_type": "code",
   "execution_count": 31,
   "id": "8fc014af-a997-4f0b-93a0-0c38b5361d96",
   "metadata": {},
   "outputs": [
    {
     "name": "stdout",
     "output_type": "stream",
     "text": [
      "    Yelp Rating\n",
      "0           4.3\n",
      "1           4.4\n",
      "2           4.4\n",
      "3           3.6\n",
      "4           4.2\n",
      "..          ...\n",
      "70          4.6\n",
      "71          4.4\n",
      "72          4.3\n",
      "73          3.0\n",
      "74          3.6\n",
      "\n",
      "[75 rows x 1 columns]\n",
      "    Google Rating\n",
      "0             4.5\n",
      "1             4.9\n",
      "2             4.7\n",
      "3             4.4\n",
      "4             4.5\n",
      "..            ...\n",
      "70            4.3\n",
      "71            4.4\n",
      "72            4.2\n",
      "73            3.5\n",
      "74            5.0\n",
      "\n",
      "[75 rows x 1 columns]\n"
     ]
    }
   ],
   "source": [
    "# Initializing our X and y variables.\n",
    "X = df[['Yelp Rating']]\n",
    "y = df[['Google Rating']]\n",
    "\n",
    "# Printing our X and y variables\n",
    "print(X)\n",
    "print(y)"
   ]
  },
  {
   "cell_type": "code",
   "execution_count": 33,
   "id": "3404823c-ac7b-4d38-ac8c-dc28cd8fd31c",
   "metadata": {},
   "outputs": [
    {
     "data": {
      "image/png": "[encoded data removed]",
      "text/plain": [
       "<Figure size 640x480 with 1 Axes>"
      ]
     },
     "metadata": {},
     "output_type": "display_data"
    }
   ],
   "source": [
    "# Now fit the model\n",
    "lin_reg_model.fit(X, y)\n",
    "\n",
    "# Make predictions\n",
    "y_pred = lin_reg_model.predict(X)\n",
    "plt.plot(X, y_pred, color='red')\n",
    "\n",
    "plt.scatter(X, y, s=4)\n",
    "plt.xlabel('Yelp Rating')  # set the labels of the x and y axes\n",
    "plt.ylabel('Google Rating')\n",
    "plt.show()"
   ]
  },
  {
   "cell_type": "code",
   "execution_count": 38,
   "id": "d5e072cc-be47-41cd-84b4-2b1789fc17a7",
   "metadata": {},
   "outputs": [
    {
     "name": "stdout",
     "output_type": "stream",
     "text": [
      "Pearson correlation coefficient (r): 0.6352016774540759\n"
     ]
    }
   ],
   "source": [
    "# Pearson correlation matrix\n",
    "Ratings = df[[\"Yelp Rating\", \"Google Rating\"]].corr(method=\"pearson\")\n",
    "\n",
    "# Extract just the r value\n",
    "r = Ratings.loc[\"Yelp Rating\", \"Google Rating\"]\n",
    "\n",
    "print(\"Pearson correlation coefficient (r):\", r)\n"
   ]
  },
  {
   "cell_type": "markdown",
   "id": "9ee60376-90dc-40f2-9186-1d322510017a",
   "metadata": {},
   "source": [
    "My Answer"
   ]
  },
  {
   "cell_type": "markdown",
   "id": "61c8c4f0-ecc7-4971-92a9-3dd5e300da8a",
   "metadata": {},
   "source": [
    "The Correlation is moderately positive between yelp and google. We can conclude this from the line of fit on the graph as well as r (The Pearson correlation coefficient) being .635"
   ]
  }
 ],
 "metadata": {
  "kernelspec": {
   "display_name": "anaconda-ai-2024.04-py310",
   "language": "python",
   "name": "conda-env-anaconda-ai-2024.04-py310-py"
  },
  "language_info": {
   "codemirror_mode": {
    "name": "ipython",
    "version": 3
   },
   "file_extension": ".py",
   "mimetype": "text/x-python",
   "name": "python",
   "nbconvert_exporter": "python",
   "pygments_lexer": "ipython3",
   "version": "3.10.13"
  }
 },
 "nbformat": 4,
 "nbformat_minor": 5
}
